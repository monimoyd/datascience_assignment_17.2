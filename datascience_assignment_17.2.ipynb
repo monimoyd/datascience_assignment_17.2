{
 "cells": [
  {
   "cell_type": "markdown",
   "metadata": {},
   "source": [
    "## A die marked A to E is rolled 50 times. Find the probability of getting a “D” exactly 5 times.\n",
    "\n",
    "## Solution Steps:\n",
    "* Import scipy\n",
    "* Number of times dice is rolled, n \n",
    "* Define probability (p) of getting D\n",
    "* Define Binomial Distribution by calling binom method of scipy\n",
    "* Define Number of times \"D\" is expected\n",
    "* Get probability by calling pmf method on hh and by passing Number of times \"D\" is expected\n",
    "* Print probability"
   ]
  },
  {
   "cell_type": "code",
   "execution_count": 3,
   "metadata": {},
   "outputs": [
    {
     "name": "stdout",
     "output_type": "stream",
     "text": [
      "probability of 'D' exactly 5 times = 0.029531204310523224\n"
     ]
    }
   ],
   "source": [
    "import scipy.stats as ss \n",
    "# Number of times dice is rolled\n",
    "n = 50\n",
    "\n",
    "# Define probability (p) of getting D\n",
    "p = 1./5\n",
    "\n",
    "# Define Binomial Distribution by calling binom method of scipy\n",
    "hh = ss.binom(n, p)\n",
    "\n",
    "# Number of times \"D\" is expected\n",
    "no_times_d_expected = 5\n",
    "\n",
    "# Get probability by calling pmf method on hh and by passing\n",
    "# Number of failed answers as input\n",
    "probability = hh.pmf(no_times_d_expected)\n",
    "\n",
    "# Print the probability\n",
    "print(\"probability of 'D' exactly 5 times = \" + str(probability))"
   ]
  },
  {
   "cell_type": "code",
   "execution_count": null,
   "metadata": {},
   "outputs": [],
   "source": []
  }
 ],
 "metadata": {
  "kernelspec": {
   "display_name": "Python 3",
   "language": "python",
   "name": "python3"
  },
  "language_info": {
   "codemirror_mode": {
    "name": "ipython",
    "version": 3
   },
   "file_extension": ".py",
   "mimetype": "text/x-python",
   "name": "python",
   "nbconvert_exporter": "python",
   "pygments_lexer": "ipython3",
   "version": "3.6.4"
  }
 },
 "nbformat": 4,
 "nbformat_minor": 2
}
